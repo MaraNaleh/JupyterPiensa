{
 "cells": [
  {
   "cell_type": "markdown",
   "metadata": {},
   "source": [
    "## El tipo Boolean\n",
    "\n",
    "El cuarto tipo de dato es el boolean Estos valores corresponden a los estados \"encendido\" o \"apagado\", y son unicamente dos. Veremos que este tipo de datos es importante en ciertas estructuras"
   ]
  },
  {
   "cell_type": "code",
   "execution_count": 1,
   "metadata": {},
   "outputs": [],
   "source": [
    "z = True\n",
    "\n",
    "tengo_hambre = False"
   ]
  },
  {
   "cell_type": "markdown",
   "metadata": {},
   "source": [
    "Antes de ver para que se usan, veremos las operaciones que existen entre booleanos. Igual que yo puedo hacer $1 + 2 = 3$, donde la operación es la suma, puedo definir operaciones entre booleanos, que dan como resultado un booleano. Existen tres operaciones básicas con booleanos:\n",
    "\n",
    "1. La negación (`not`): Cambia el valor del booleano a su estado contrario. Entonces `not True` es igual a `False` y `not False` es igual a `True`.\n",
    "\n",
    "2. Disyunción (`or`): Igual que la suma necesita dos enteros para realizar la operación, la disyunción necesita dos booleanos para realizar la operación correspondiente. Da como resultado False solamente si ambos booleanos son False. Entonces `False or False` es igual a `False`, y los tres resultados `True or False`, `False or True` y `True or True` dan como resultado `True`. \n",
    "\n",
    "3. Conjunción (`and`): Igual que el `or`, necesita dos booleanos, y devulve uno. En este caso, la conjunción `True and True` es la única que sale igual a `True`. Las otras tres, `True and False`, `False and True`, `False and False` salen `False`. \n",
    "\n",
    "Veamos unos ejemplos"
   ]
  },
  {
   "cell_type": "code",
   "execution_count": 3,
   "metadata": {},
   "outputs": [
    {
     "name": "stdout",
     "output_type": "stream",
     "text": [
      "Ejemplo 1:  True\n",
      "Ejemplo 2:  False\n",
      "Ejemplo 3:  True\n"
     ]
    }
   ],
   "source": [
    "print(\"Ejemplo 1: \", True or False)\n",
    "print(\"Ejemplo 2: \", False and (False or True))\n",
    "print(\"Ejemplo 3: \", not True or not False)"
   ]
  },
  {
   "cell_type": "markdown",
   "metadata": {},
   "source": [
    "## El tipo List\n",
    "\n",
    "El último tipo de dato esencial de Python es el tipo List. Es como una caja de variables, delimitada por corchetes y separados por comas. Puede contener CUALQUIER objeto (de cualquier tipo, inclusive puede contener listas). "
   ]
  },
  {
   "cell_type": "code",
   "execution_count": null,
   "metadata": {},
   "outputs": [],
   "source": [
    "milista = "
   ]
  }
 ],
 "metadata": {
  "kernelspec": {
   "display_name": "Python 3",
   "language": "python",
   "name": "python3"
  },
  "language_info": {
   "codemirror_mode": {
    "name": "ipython",
    "version": 3
   },
   "file_extension": ".py",
   "mimetype": "text/x-python",
   "name": "python",
   "nbconvert_exporter": "python",
   "pygments_lexer": "ipython3",
   "version": "3.8.3"
  }
 },
 "nbformat": 4,
 "nbformat_minor": 4
}
