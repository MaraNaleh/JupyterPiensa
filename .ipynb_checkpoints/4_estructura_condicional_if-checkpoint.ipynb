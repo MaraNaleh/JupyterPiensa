{
 "cells": [
  {
   "cell_type": "markdown",
   "metadata": {},
   "source": [
    "## Estructura condicional if\n",
    "\n",
    "Es hora de darle utilidad a los datos booleanos. Supongamos que tenemos la siguiente variable booleana:"
   ]
  },
  {
   "cell_type": "code",
   "execution_count": 1,
   "metadata": {},
   "outputs": [],
   "source": [
    "he_estudiado = True #Ejemplo"
   ]
  },
  {
   "cell_type": "markdown",
   "metadata": {},
   "source": [
    "Es una variable que refleja si he estudiado en las últimas semanas, el cual le he puesto el valor `True`, como ejemplo. Supongamos además que me he puesto la meta de inscribirme a Aguarandu solo si he estudiado las últimas semanas. El desafío es hacer una especie de programa que me ayude a notificar mi decisión. Espero que estés dándote cuenta de la dificultad al cual nos enfrentamos dados los conocimientos que hemos adquirido hasta ahora: Todas las líneas de código que escribamos, se ejecutan. No hay forma de evitar o pasar por encima una línea de código. Si yo simplemente escribo las siguientes líneas de código:"
   ]
  },
  {
   "cell_type": "code",
   "execution_count": 2,
   "metadata": {
    "scrolled": true
   },
   "outputs": [
    {
     "name": "stdout",
     "output_type": "stream",
     "text": [
      "Inscribirse a Aguarandu\n",
      "No inscribirse a Aguarandu\n"
     ]
    }
   ],
   "source": [
    "print(\"Inscribirse a Aguarandu\")\n",
    "\n",
    "print(\"No inscribirse a Aguarandu\")"
   ]
  },
  {
   "cell_type": "markdown",
   "metadata": {},
   "source": [
    "Entonces estamos mostrando ambos mensajes, aún cuando en nuestro ejemplo si hemos estudiado!. Para solucionar este problema, Python nos provee de lo que se llama una *estructura condicional*. Se ve más o menos así:"
   ]
  },
  {
   "cell_type": "code",
   "execution_count": null,
   "metadata": {},
   "outputs": [],
   "source": [
    "'''\n",
    "if boolean:\n",
    "     --------------\n",
    "    |               |\n",
    "    | Instrucciones |\n",
    "    |               |\n",
    "     ---------------\n",
    "\n",
    "'''"
   ]
  },
  {
   "cell_type": "markdown",
   "metadata": {},
   "source": [
    "Posee tres elementos principales:\n",
    "\n",
    "1. **if**: Esta palabra le indicará a Python que una estructura está por comenzar. Se escribe siempre en minúsculas y es también una *palabra reservada*, lo que significa que no puedes nombrar a una variable de *if*, pues podría confundir con el inicio de una estructura. \n",
    "\n",
    "2. **boolean**: Es una variable de tipo boolean que va inmediatamente después del inicio de la estructura, y debe ir inmediatamente antes de los dos puntos (:). Le indica a Python si entrar o no en la estructura. Si el boolean tiene valor `True`, entra, si tiene valor `False`, no entra.\n",
    "\n",
    "3. **instrucciones**: Es cualquier secuencia de líneas de código que le sigan a los dos puntos y se ejecutan *solamente si `boolean` tiene valor verdadero."
   ]
  }
 ],
 "metadata": {
  "kernelspec": {
   "display_name": "Python 3",
   "language": "python",
   "name": "python3"
  },
  "language_info": {
   "codemirror_mode": {
    "name": "ipython",
    "version": 3
   },
   "file_extension": ".py",
   "mimetype": "text/x-python",
   "name": "python",
   "nbconvert_exporter": "python",
   "pygments_lexer": "ipython3",
   "version": "3.8.3"
  }
 },
 "nbformat": 4,
 "nbformat_minor": 4
}
