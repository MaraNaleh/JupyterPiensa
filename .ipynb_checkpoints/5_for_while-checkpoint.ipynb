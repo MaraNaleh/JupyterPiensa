{
 "cells": [
  {
   "cell_type": "markdown",
   "metadata": {},
   "source": [
    "# Estructuras de bucles. \n",
    "\n",
    "A veces, nuestro código puede tornarse muy muy largo. Consideremos la siguinte lista de alumnos"
   ]
  },
  {
   "cell_type": "code",
   "execution_count": 2,
   "metadata": {},
   "outputs": [],
   "source": [
    "clase = [\"Pedrito\", \"Marcial\", \"Elias\", \"Ariel\"]"
   ]
  },
  {
   "cell_type": "markdown",
   "metadata": {},
   "source": [
    "Supongamos que es el dia de la juventud, y quiero felicitar a todos mis alumnos personalmente (por Python). El código quedaría más o menos así:"
   ]
  },
  {
   "cell_type": "code",
   "execution_count": 3,
   "metadata": {},
   "outputs": [
    {
     "name": "stdout",
     "output_type": "stream",
     "text": [
      "Feliz dia de la juventud,  Pedrito !\n",
      "Feliz dia de la juventud,  Marcial !\n",
      "Feliz dia de la juventud,  Elias !\n",
      "Feliz dia de la juventud,  Ariel !\n"
     ]
    }
   ],
   "source": [
    "print(\"Feliz dia de la juventud, \", clase[0], \"!\")\n",
    "print(\"Feliz dia de la juventud, \", clase[1], \"!\")\n",
    "print(\"Feliz dia de la juventud, \", clase[2], \"!\")\n",
    "print(\"Feliz dia de la juventud, \", clase[3], \"!\")"
   ]
  },
  {
   "cell_type": "markdown",
   "metadata": {},
   "source": [
    "Desde luego, esto me tomó poco tiempo, aproximadamente 30 segundos. Pero, ¿Y si tengo $100$ alumnos? No sería placentero estar escribiendo esas cien líneas de código, ni eficiente en realidad. Es por ese tipo de situaciones que, al igual que la estructura `if`, existe la estructura `for`, que luce más o menos así:"
   ]
  },
  {
   "cell_type": "code",
   "execution_count": null,
   "metadata": {},
   "outputs": [],
   "source": [
    "'''\n",
    "for |variable| in LISTA:\n",
    "     -----------------------\n",
    "    |                       |\n",
    "    |                       |\n",
    "    |                       |\n",
    "    |    Aqui van tus       |\n",
    "    |    instrucciones      |\n",
    "    |                       |\n",
    "    |                       |\n",
    "    |                       |\n",
    "     -----------------------\n",
    "(Esto ya no es una instruccion)\n",
    "'''"
   ]
  },
  {
   "cell_type": "markdown",
   "metadata": {},
   "source": [
    "Lo que va a realizar este bucle `for` es repetir las instrucciones dentro de la estructura **por cada elemento de la LISTA**. Si la lista tiene 10 elementos, lo hará 10 veces. \n",
    "\n",
    "Podemos identificar varios componentes en la estructura:\n",
    "\n",
    "1. La palabra `for`: Es la palabra reservada que Python usa para que le indiquemos que una estructura for está por comenzar\n",
    "\n",
    "2. `variable`: Es una variable nueva que podemos definir como queramos. \n",
    "\n",
    "3. `LISTA`: Es una variable tipo lista que ya debe estar definida antes.\n",
    "\n",
    "4. Instrucciones: Son las líneas de código que se van a repetir por cada elemento de la lista. Deben estar debidamente indentados, igual que una estructura `if`.\n",
    "\n",
    "5. Operador `in`: En este caso, es simplemente una necesidad de sintaxis ponerlo en el `for`. Sin ella, nos saltará un error.\n",
    "\n",
    "Entonces nuestro código de felicitación a todos mis alumnos queda mas o menos así:"
   ]
  },
  {
   "cell_type": "code",
   "execution_count": 4,
   "metadata": {},
   "outputs": [
    {
     "name": "stdout",
     "output_type": "stream",
     "text": [
      "Feliz dia de la juventud,  Pedrito !\n",
      "Feliz dia de la juventud,  Marcial !\n",
      "Feliz dia de la juventud,  Elias !\n",
      "Feliz dia de la juventud,  Ariel !\n"
     ]
    }
   ],
   "source": [
    "for i in clase:\n",
    "    print(\"Feliz dia de la juventud, \", i, \"!\")"
   ]
  },
  {
   "cell_type": "markdown",
   "metadata": {},
   "source": [
    "*Ejercicio: Por qué se puso `i`, y no `clase[i]`?*\n",
    "\n",
    "Observe algo no trivial: la función `print` realiza un salto de línea automático.\n",
    "\n",
    "Otro ejemplo, donde imprimiremos solo el nombre del alumno y la cantidad de letras en su nombre:"
   ]
  },
  {
   "cell_type": "code",
   "execution_count": 5,
   "metadata": {},
   "outputs": [
    {
     "name": "stdout",
     "output_type": "stream",
     "text": [
      "Pedrito 7\n",
      "Marcial 7\n",
      "Elias 5\n",
      "Ariel 5\n"
     ]
    }
   ],
   "source": [
    "for nino in clase:\n",
    "    print(nino, len(nino)) #nombre + largor"
   ]
  }
 ],
 "metadata": {
  "kernelspec": {
   "display_name": "Python 3",
   "language": "python",
   "name": "python3"
  },
  "language_info": {
   "codemirror_mode": {
    "name": "ipython",
    "version": 3
   },
   "file_extension": ".py",
   "mimetype": "text/x-python",
   "name": "python",
   "nbconvert_exporter": "python",
   "pygments_lexer": "ipython3",
   "version": "3.8.3"
  }
 },
 "nbformat": 4,
 "nbformat_minor": 4
}
