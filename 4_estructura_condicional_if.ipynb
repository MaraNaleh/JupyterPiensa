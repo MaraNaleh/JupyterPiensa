{
 "cells": [
  {
   "cell_type": "markdown",
   "metadata": {},
   "source": [
    "## Estructura condicional if\n",
    "\n",
    "Es hora de darle utilidad a los datos booleanos. Supongamos que tenemos la siguiente variable booleana:"
   ]
  },
  {
   "cell_type": "code",
   "execution_count": 1,
   "metadata": {},
   "outputs": [],
   "source": [
    "he_estudiado = True #Ejemplo"
   ]
  },
  {
   "cell_type": "markdown",
   "metadata": {},
   "source": [
    "Es una variable que refleja si he estudiado en las últimas semanas, el cual le he puesto el valor `True`, como ejemplo. Supongamos además que me he puesto la meta de inscribirme a Aguarandu solo si he estudiado las últimas semanas. El desafío es hacer una especie de programa que me ayude a notificar mi decisión. Espero que estés dándote cuenta de la dificultad al cual nos enfrentamos dados los conocimientos que hemos adquirido hasta ahora: Todas las líneas de código que escribamos, se ejecutan. No hay forma de evitar o pasar por encima una línea de código. Si yo simplemente escribo las siguientes líneas de código:"
   ]
  },
  {
   "cell_type": "code",
   "execution_count": 2,
   "metadata": {
    "scrolled": true
   },
   "outputs": [
    {
     "name": "stdout",
     "output_type": "stream",
     "text": [
      "Inscribirse a Aguarandu\n",
      "No inscribirse a Aguarandu\n"
     ]
    }
   ],
   "source": [
    "print(\"Inscribirse a Aguarandu\")\n",
    "\n",
    "print(\"No inscribirse a Aguarandu\")"
   ]
  },
  {
   "cell_type": "markdown",
   "metadata": {},
   "source": [
    "Entonces estamos mostrando ambos mensajes, aún cuando en nuestro ejemplo si hemos estudiado!. Para solucionar este problema, Python nos provee de lo que se llama una *estructura condicional*. Se ve más o menos así:"
   ]
  },
  {
   "cell_type": "code",
   "execution_count": null,
   "metadata": {},
   "outputs": [],
   "source": [
    "'''\n",
    "if boolean:\n",
    "     --------------\n",
    "    |               |\n",
    "    | Instrucciones |\n",
    "    |               |\n",
    "     ---------------\n",
    "\n",
    "'''"
   ]
  },
  {
   "cell_type": "markdown",
   "metadata": {},
   "source": [
    "Posee tres elementos principales:\n",
    "\n",
    "1. **if**: Esta palabra le indicará a Python que una estructura está por comenzar. Se escribe siempre en minúsculas y es también una *palabra reservada*, lo que significa que no puedes nombrar a una variable de *if*, pues podría confundir con el inicio de una estructura. \n",
    "\n",
    "2. **boolean**: Es una variable de tipo boolean que va inmediatamente después del inicio de la estructura, y debe ir inmediatamente antes de los dos puntos (:). Le indica a Python si entrar o no en la estructura. Si el boolean tiene valor `True`, entra, si tiene valor `False`, no entra.\n",
    "\n",
    "3. **instrucciones**: Es cualquier secuencia de líneas de código que le sigan a los dos puntos y se ejecutan *solamente si `boolean` tiene valor verdadero. Si `boolean` tiene valor falso, entonces se saltean las instrucciones completamente. \n",
    "\n",
    "Sin embargo, tal vez debes estar preguntándote cuándo es que las instrucciones terminan. Es decir, obviamente las instrucciones comienzan en la línea siguiente al inicio de la estructura condicional. Pero, ¿Cómo sabe Python cuándo las instrucciones ya no están dentro de la estructura? La respuesta se llama **indentación**. Una indentación equivale a apretar cuatro veces la barra espaciadora. No cinco. No tres. Exactamente cuatro espacios y Python sabrá que le estás pidiendo que esa línea de código se encuentre dentro de la estructura condicional. Veamos un ejemplo"
   ]
  },
  {
   "cell_type": "code",
   "execution_count": 5,
   "metadata": {},
   "outputs": [
    {
     "name": "stdout",
     "output_type": "stream",
     "text": [
      "Inscribirse a Aguarandu\n"
     ]
    }
   ],
   "source": [
    "if he_estudiado:\n",
    "    print(\"Inscribirse a Aguarandu\")"
   ]
  },
  {
   "cell_type": "markdown",
   "metadata": {},
   "source": [
    "Como podemos ver, la variable `he_estudiado` es del tipo booleano, pues lo definimos así antes, y le dimos el valor verdadero. Entonces Python realizará las instrucciones que estén dentro de la estructura. En este caso, imprimir `Inscribirse a Aguarandú`.  Veamos que pasa si cambiamos el valor de la variable:"
   ]
  },
  {
   "cell_type": "code",
   "execution_count": 6,
   "metadata": {},
   "outputs": [],
   "source": [
    "he_estudiado = False\n",
    "if he_estudiado:\n",
    "    print(\"Inscribirse a Aguarandu\")"
   ]
  },
  {
   "cell_type": "markdown",
   "metadata": {},
   "source": [
    "No pasó nada. En efecto, como la variable booleana tiene valor `False`, las instrucciones no se ejecutan. \n",
    "\n",
    "Veamos ahora que sucede si indentamos mal nuestras instrucciones:"
   ]
  },
  {
   "cell_type": "code",
   "execution_count": 13,
   "metadata": {},
   "outputs": [
    {
     "ename": "IndentationError",
     "evalue": "unexpected indent (<ipython-input-13-d53c1d3fd688>, line 3)",
     "output_type": "error",
     "traceback": [
      "\u001b[1;36m  File \u001b[1;32m\"<ipython-input-13-d53c1d3fd688>\"\u001b[1;36m, line \u001b[1;32m3\u001b[0m\n\u001b[1;33m    he_estudiado = True\u001b[0m\n\u001b[1;37m    ^\u001b[0m\n\u001b[1;31mIndentationError\u001b[0m\u001b[1;31m:\u001b[0m unexpected indent\n"
     ]
    }
   ],
   "source": [
    "if True:\n",
    "    print(\"Hola mundo\")\n",
    "     he_estudiado = True"
   ]
  },
  {
   "cell_type": "markdown",
   "metadata": {},
   "source": [
    "En este caso, la primera instrucción está bien indentada, pero la segunda tiene cinco espacios en lugar de cuatro. Si vemos un `IndentationError`, es un síntoma de que algo de ese estilo ocurrió en nuestro código. \n",
    "\n",
    "Veamos más dos ejemplos:"
   ]
  },
  {
   "cell_type": "code",
   "execution_count": 14,
   "metadata": {},
   "outputs": [
    {
     "name": "stdout",
     "output_type": "stream",
     "text": [
      "Inscribirse a Aguarandu\n",
      "---------\n",
      "No inscribirse a Aguarandu\n"
     ]
    }
   ],
   "source": [
    "he_estudiado = True\n",
    "\n",
    "if he_estudiado:\n",
    "    print(\"Inscribirse a Aguarandu\")\n",
    "    \n",
    "if not he_estudiado:\n",
    "    print(\"No inscribirse a Aguarandu\")\n",
    "    \n",
    "print(\"---------\")\n",
    "\n",
    "he_estudiado = False\n",
    "\n",
    "if he_estudiado:\n",
    "    print(\"Inscribirse a Aguarandu\")\n",
    "    \n",
    "if not he_estudiado:\n",
    "    print(\"No inscribirse a Aguarandu\")"
   ]
  },
  {
   "cell_type": "markdown",
   "metadata": {},
   "source": [
    "El segundo y el cuarto *if* no son absolutamente necesarios. Se suelen reemplazar por una sentencia *else*, que ejecuta las instrucciones que estén indentadas si es que boolean es `False`."
   ]
  },
  {
   "cell_type": "code",
   "execution_count": 16,
   "metadata": {},
   "outputs": [
    {
     "name": "stdout",
     "output_type": "stream",
     "text": [
      "No inscribirse a Aguarandu\n"
     ]
    }
   ],
   "source": [
    "if he_estudiado:\n",
    "    print(\"Inscribirse a Aguarandu\")\n",
    "else:\n",
    "    print(\"No inscribirse a Aguarandu\")"
   ]
  },
  {
   "cell_type": "markdown",
   "metadata": {},
   "source": [
    "Entonces el primer set de instrucciones se ejecuta cuando *boolean* es verdadero y el segundo si es falso. \n",
    "\n",
    "### Generando booleanos\n",
    "\n",
    "Recordemos que cuando estudiamos los enteros y los flotantes, vimos varias operaciones. Por ejemplo podemos sumar dos enteros `3 + 2`, multiplicarlos, `4 * 7`, dividirlos `16/2`, entre otras cosas. Todas estas operaciones daban como resultado un entero. Sin embargo existen otras operaciones que necesitan enteros, pero que dan como resultado booleanos. Listaremos las mas comunes aquí:\n",
    "\n",
    "1. Mayor a (>) y menor a (<): Necesitan de dos flotantes, y devuelve un booleano. Por ejemplo, `4 > 2` da como resultado `True`, y `-5 > 0` da como resultado `False`. \n",
    "\n",
    "2. Igual (==): Necesita dos objetos, y devuelve `True` si es que los objetos son iguales, `False` en caso contrario. Entonces `4 == 5` es `False`, y `0 == 0` es `True`. **No confundir es igual (==) a asignación (=)**\n",
    "\n",
    "3. No es igual (!=): Es lo contrario a es igual. Devuelve `True` cuando los objetos no son iguales y `False` cuando son iguales. Entonces `4 != 5` da comor esultado `True` y `7 != 7` da como resultado `False`. \n",
    "\n",
    "\n",
    "Veamos un ejemplo. Supongamos que tengo una variable que representa la cantidad de huevos que hay en casa. Si hay menos de 5 huevos, debo ir a comprar más, si hay menos de 15 pero mas de 5 debo anotar una salida al super. Si hay mas de 15, no hago nada. "
   ]
  },
  {
   "cell_type": "code",
   "execution_count": 17,
   "metadata": {},
   "outputs": [
    {
     "name": "stdout",
     "output_type": "stream",
     "text": [
      "Agendar salida al supermercado.\n"
     ]
    }
   ],
   "source": [
    "cant_huevos = 7\n",
    "\n",
    "if cant_huevos < 5:\n",
    "    print(\"Comprar más!\")\n",
    "elif cant_huevos < 15:\n",
    "    print(\"Agendar salida al supermercado.\")\n",
    "else:\n",
    "    print(\"No hacer nada\")"
   ]
  },
  {
   "cell_type": "markdown",
   "metadata": {},
   "source": [
    "En este caso la variable es igual a 7. La manera en que Python lee la estructura es analizando todos los if's y los elif's hasta que uno de los booleanos sea verdadero. Si todos salen Falso, entra en el else, sin importar qué. En este caso, el primer if realiza la operación `cant_huevos < 5`. Observe primero que `cant_huevos` es una variable numérica, y `5` también lo es, entonces tiene sentido hacer la operación \"menor a\". Como `cant_huevos = 7`, la operación es equivalente a `7 < 5`, que da como resultado `False`. Así, el primer bloque de instrucciones es ignorado. \n",
    "\n",
    "El segundo bloque evalúa `cant_huevos < 15`, el cual es igual a `True`. Entonces el segundo bloque de instrucciones se realiza, y consecuentemente se imprime el mensaje. \n",
    "\n",
    "Con respecto al tercer bloque, recuerde que el bloque `else` solo se ejecuta **cuando todos los bloques anteriores, if's y elif's dieron como resultado `False`**. Es por eso que no se muestra el mensaje `No hacer nada`."
   ]
  }
 ],
 "metadata": {
  "kernelspec": {
   "display_name": "Python 3",
   "language": "python",
   "name": "python3"
  },
  "language_info": {
   "codemirror_mode": {
    "name": "ipython",
    "version": 3
   },
   "file_extension": ".py",
   "mimetype": "text/x-python",
   "name": "python",
   "nbconvert_exporter": "python",
   "pygments_lexer": "ipython3",
   "version": "3.8.3"
  }
 },
 "nbformat": 4,
 "nbformat_minor": 4
}
