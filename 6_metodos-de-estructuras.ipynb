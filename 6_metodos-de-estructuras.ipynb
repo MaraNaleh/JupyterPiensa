{
 "cells": [
  {
   "cell_type": "markdown",
   "metadata": {},
   "source": [
    "## Métodos sobre listas\n",
    "\n",
    "En teoría ya tenemos casi todo lo esencial para rendir un examen de Aguarandu. La imaginación es el límite. Nuestro trabajo ahora es pulir nuestros conocimientos con práctica. Por ejemplo, si tenemos una lista:\n",
    "\n"
   ]
  },
  {
   "cell_type": "code",
   "execution_count": 1,
   "metadata": {},
   "outputs": [],
   "source": [
    "frutas = ['naranja', 'manzana', 'pera', 'banana', 'kiwi', 'manzana', 'banana']"
   ]
  },
  {
   "cell_type": "markdown",
   "metadata": {},
   "source": [
    "Y queremos contar la cantidad de elementos que tiene, podríamos hacerlo así:"
   ]
  },
  {
   "cell_type": "code",
   "execution_count": 2,
   "metadata": {},
   "outputs": [
    {
     "name": "stdout",
     "output_type": "stream",
     "text": [
      "7\n"
     ]
    }
   ],
   "source": [
    "cantidad = 0\n",
    "for fru in frutas:\n",
    "    cantidad = cantidad + 1\n",
    "print(cantidad)"
   ]
  },
  {
   "cell_type": "markdown",
   "metadata": {},
   "source": [
    "Sin embargo, como vimos antes, existe la función `len()`, que nos devuelve la cantidad de elementos de una ista inmediatamente:"
   ]
  },
  {
   "cell_type": "code",
   "execution_count": 3,
   "metadata": {},
   "outputs": [
    {
     "name": "stdout",
     "output_type": "stream",
     "text": [
      "7\n"
     ]
    }
   ],
   "source": [
    "print(len(frutas))"
   ]
  },
  {
   "cell_type": "markdown",
   "metadata": {},
   "source": [
    "Los métodos y las funciones nos permiten realizar operaciones mucho más rápidamente si los conocemos. Nos ahorran tiempo para pensar en otros problemas :). Otro ejemplo, si queremos obtener la suma de los elementos de una lista:"
   ]
  },
  {
   "cell_type": "code",
   "execution_count": 4,
   "metadata": {},
   "outputs": [],
   "source": [
    "lis = [1, 3, 6, 1, 12, 5, 9, 14, 21]"
   ]
  },
  {
   "cell_type": "markdown",
   "metadata": {},
   "source": [
    "Podemos usar la función `sum()`, que recibe una lista y devuelve la cantidad de elementos:"
   ]
  },
  {
   "cell_type": "code",
   "execution_count": 5,
   "metadata": {},
   "outputs": [
    {
     "name": "stdout",
     "output_type": "stream",
     "text": [
      "72\n"
     ]
    }
   ],
   "source": [
    "print(sum(lis))"
   ]
  },
  {
   "cell_type": "markdown",
   "metadata": {},
   "source": [
    "Listamos otros métodos útiles:\n",
    "\n",
    "1. `list.append(x)`: Agrega un ítem al final de la lista."
   ]
  },
  {
   "cell_type": "code",
   "execution_count": 6,
   "metadata": {},
   "outputs": [
    {
     "name": "stdout",
     "output_type": "stream",
     "text": [
      "['naranja', 'manzana', 'pera', 'banana', 'kiwi', 'manzana', 'banana', 'uvas']\n"
     ]
    }
   ],
   "source": [
    "frutas.append('uvas')\n",
    "print(frutas)"
   ]
  },
  {
   "cell_type": "markdown",
   "metadata": {},
   "source": [
    "2. `list.insert(i, x)`: Inserta un elemento `x` en la posición `i` de la lista. "
   ]
  },
  {
   "cell_type": "code",
   "execution_count": 7,
   "metadata": {},
   "outputs": [
    {
     "name": "stdout",
     "output_type": "stream",
     "text": [
      "['naranja', 'manzana', 'Sandia', 'pera', 'banana', 'kiwi', 'manzana', 'banana', 'uvas']\n"
     ]
    }
   ],
   "source": [
    "frutas.insert(2, 'Sandia')\n",
    "print(frutas)"
   ]
  },
  {
   "cell_type": "markdown",
   "metadata": {},
   "source": [
    "3. `list.remove(x)`: Remueve el primer elemento de `list` que sea igual a `x`."
   ]
  },
  {
   "cell_type": "code",
   "execution_count": 8,
   "metadata": {},
   "outputs": [
    {
     "name": "stdout",
     "output_type": "stream",
     "text": [
      "['naranja', 'manzana', 'Sandia', 'pera', 'kiwi', 'manzana', 'banana', 'uvas']\n"
     ]
    }
   ],
   "source": [
    "frutas.remove('banana')\n",
    "print(frutas)"
   ]
  },
  {
   "cell_type": "markdown",
   "metadata": {},
   "source": [
    "4. `list.count(x)`: Cuenta cuantos elementos iguales a `x` hay en `list`."
   ]
  },
  {
   "cell_type": "code",
   "execution_count": 9,
   "metadata": {},
   "outputs": [
    {
     "name": "stdout",
     "output_type": "stream",
     "text": [
      "2\n",
      "0\n"
     ]
    }
   ],
   "source": [
    "print(frutas.count('manzana'))\n",
    "print(frutas.count('durazno'))"
   ]
  },
  {
   "cell_type": "markdown",
   "metadata": {},
   "source": [
    "5. `list.sort()`: Ordena la lista de menor a mayor, numéricamente si los elementos son flotante o alfabéticamente si son strings. Lanza error si hay una mezcla de tipos de datos."
   ]
  },
  {
   "cell_type": "code",
   "execution_count": 10,
   "metadata": {},
   "outputs": [
    {
     "name": "stdout",
     "output_type": "stream",
     "text": [
      "['Sandia', 'banana', 'kiwi', 'manzana', 'manzana', 'naranja', 'pera', 'uvas']\n"
     ]
    }
   ],
   "source": [
    "frutas.sort()\n",
    "print(frutas)"
   ]
  },
  {
   "cell_type": "markdown",
   "metadata": {},
   "source": [
    "Observe que `Sandias` se encuentra antes que `banana` porque en `ASCII` la `S` mayúscula va antes que la `b` minúscula!"
   ]
  },
  {
   "cell_type": "markdown",
   "metadata": {},
   "source": [
    "6. `list.index(x)`: Devuelve el índice del elemento `x` en la `lista`. Retorna `ValueError` si el elemento no se encuentra en la lista."
   ]
  },
  {
   "cell_type": "code",
   "execution_count": 12,
   "metadata": {},
   "outputs": [
    {
     "name": "stdout",
     "output_type": "stream",
     "text": [
      "2\n"
     ]
    }
   ],
   "source": [
    "print(frutas.index('kiwi')) #frutas[2] = 'kiwi'"
   ]
  },
  {
   "cell_type": "code",
   "execution_count": 13,
   "metadata": {},
   "outputs": [
    {
     "ename": "ValueError",
     "evalue": "'ciruela' is not in list",
     "output_type": "error",
     "traceback": [
      "\u001b[1;31m---------------------------------------------------------------------------\u001b[0m",
      "\u001b[1;31mValueError\u001b[0m                                Traceback (most recent call last)",
      "\u001b[1;32m<ipython-input-13-5906a0ccb82f>\u001b[0m in \u001b[0;36m<module>\u001b[1;34m\u001b[0m\n\u001b[1;32m----> 1\u001b[1;33m \u001b[0mprint\u001b[0m\u001b[1;33m(\u001b[0m\u001b[0mfrutas\u001b[0m\u001b[1;33m.\u001b[0m\u001b[0mindex\u001b[0m\u001b[1;33m(\u001b[0m\u001b[1;34m'ciruela'\u001b[0m\u001b[1;33m)\u001b[0m\u001b[1;33m)\u001b[0m \u001b[1;31m#Error. No hay ciruelas\u001b[0m\u001b[1;33m\u001b[0m\u001b[1;33m\u001b[0m\u001b[0m\n\u001b[0m",
      "\u001b[1;31mValueError\u001b[0m: 'ciruela' is not in list"
     ]
    }
   ],
   "source": [
    "print(frutas.index('ciruela')) #Error. No hay ciruelas"
   ]
  },
  {
   "cell_type": "markdown",
   "metadata": {},
   "source": [
    "### Ejercicios\n",
    "\n",
    ">1. Considere la siguiente lista: `frutas = ['manzana','naranja',21, 'manzana',15, 'Sandia', 42 'pera',2.07 'banana','camello', 'manzana', 'banana', 'quede']`. Utilizando los métodos de listas, realice las siguientes tareas:\n",
    ">>1. Determinar cuantas veces aparece el string `'manzana'` en la lista.\n",
    ">>2. Determinar cuantos elementos tiene la lista\n",
    ">>3. Eliminar todos los elementos repetidos y los que no sean frutas\n",
    ">>4. Ordenar la lista alfabéticamente\n",
    ">>5. Celebrar\n",
    "\n",
    ">2. Usando listas y sus métodos, escriba un programa que imprima la suma de todos los números primos menores a 500.\n",
    "\n",
    ">3. De la lista resultante del segundo ejercicio cree una nueva que no contenga los primos que tengan el dígito 5. Luego imprima la diferencia en cantidad de elementos de ambas listas.\n",
    "\n",
    ">4. Pida al usuario que ingrese una serie de números (detenerse si se ingresa el número cero). Imprimir la cantidad de números ingresados y la suma de todos los números.\n",
    "\n",
    ">5. Pida al usuario que ingrese nombres de personas hasta que ingrese la palabra `'elias'`. Luego imprima la lista de nombres ordenados alfabéticamente."
   ]
  },
  {
   "cell_type": "markdown",
   "metadata": {},
   "source": [
    "## Métodos sobre strings\n",
    "\n",
    "Los strings también poseen métodos muy útiles. Listamos a seguir algunos:"
   ]
  },
  {
   "cell_type": "markdown",
   "metadata": {},
   "source": [
    "1. `string.count(char)`: Devuelve la cantidad de veces que `char` aparece en `string`: "
   ]
  },
  {
   "cell_type": "code",
   "execution_count": 15,
   "metadata": {},
   "outputs": [
    {
     "name": "stdout",
     "output_type": "stream",
     "text": [
      "1\n"
     ]
    }
   ],
   "source": [
    "string = 'Oracion de prueba para Jupyter.'\n",
    "\n",
    "print(string.count('o')) #Sale 1"
   ]
  },
  {
   "cell_type": "markdown",
   "metadata": {},
   "source": [
    "Observe que sale 1 porque `O` y `o` son diferentes."
   ]
  },
  {
   "cell_type": "code",
   "execution_count": 16,
   "metadata": {},
   "outputs": [
    {
     "name": "stdout",
     "output_type": "stream",
     "text": [
      "4\n"
     ]
    }
   ],
   "source": [
    "print(string.count(' ')) #Cantidad de espacios en blanco"
   ]
  },
  {
   "cell_type": "markdown",
   "metadata": {},
   "source": [
    "2. `string.index(char)`: Devuelve el index de `char` en `string`. Error si no se encuentra:"
   ]
  },
  {
   "cell_type": "code",
   "execution_count": 17,
   "metadata": {},
   "outputs": [
    {
     "name": "stdout",
     "output_type": "stream",
     "text": [
      "11\n"
     ]
    }
   ],
   "source": [
    "print(string.index(\"prueba\")) #Empieza en la posición 11."
   ]
  },
  {
   "cell_type": "markdown",
   "metadata": {},
   "source": [
    "3. `string.upper()`: Convierte el string en mayúsculas.\n",
    "\n",
    "4. `string.lower()`: Convierte el string en minúsculas.\n"
   ]
  },
  {
   "cell_type": "code",
   "execution_count": 18,
   "metadata": {},
   "outputs": [
    {
     "name": "stdout",
     "output_type": "stream",
     "text": [
      "ORACION DE PRUEBA PARA JUPYTER.\n",
      "oracion de prueba para jupyter.\n"
     ]
    }
   ],
   "source": [
    "print(string.upper())\n",
    "print(string.lower())"
   ]
  },
  {
   "cell_type": "markdown",
   "metadata": {},
   "source": [
    "Observe que inicialmente tanto `Oración` como `Jupyter`, tienen una mayúscula."
   ]
  },
  {
   "cell_type": "markdown",
   "metadata": {},
   "source": [
    "5. `string.replace(viejo, nuevo)`: Permite reemplazar una parte de la oración por una nueva"
   ]
  },
  {
   "cell_type": "code",
   "execution_count": 20,
   "metadata": {},
   "outputs": [
    {
     "data": {
      "text/plain": [
       "'Or---cion de prueb--- p---r--- Jupyter.'"
      ]
     },
     "execution_count": 20,
     "metadata": {},
     "output_type": "execute_result"
    }
   ],
   "source": [
    "string.replace(\"a\", \"---\")"
   ]
  },
  {
   "cell_type": "markdown",
   "metadata": {},
   "source": [
    "6. `string.split('char'))`: Permite dividir el string usndo el separador `char`."
   ]
  },
  {
   "cell_type": "code",
   "execution_count": 21,
   "metadata": {},
   "outputs": [
    {
     "name": "stdout",
     "output_type": "stream",
     "text": [
      "['Oracion', 'de', 'prueba', 'para', 'Jupyter.']\n"
     ]
    }
   ],
   "source": [
    "print(string.split(' '))"
   ]
  },
  {
   "cell_type": "markdown",
   "metadata": {},
   "source": [
    "### Ejercicios\n",
    "\n",
    ">1. Considere la siguiente variable de tipo string:\n",
    "`x = Un poeta dijo una vez: El universo entero está es una copa de vino. Como los poetas no escriben para ser comprendidos, probablemente nunca sabremos en qué sentido lo dijo.\n",
    " Pero es cierto que si observamos atentamente una copa de vino podremos ver todo el universo.\n",
    " Están las cosas de la física: el líquido que forma remolinos y se evapora en función del viento y del tiempo, los reflejos en el vidrio, y nuestra imaginación añade los átomos.\n",
    " El vidrio es una destilación de las rocas de la Tierra, y en su composición encontramos los secretos de la edad del universo y la evolución de las estrellas.\n",
    " ¿Qué compuestos químicos hallamos en el vino? ¿Cómo se han formado? Tenemos los fermentos, las enzimas, los sustratos, los productos.\n",
    " Y aquí encontramos la gran generalización: toda la vida es fermentación. Nadie puede descubrir la química del vino sin descubrir la causa de muchas enfermedades.\n",
    " ¡Qué vívido es el Burdeos, presionando su existencia en la conciencia que lo observa!\n",
    " Por alguna razón, cuando nuestras mentes diminutas dividen esta copa de vino, este universo, en partes -física, biología, geología, astronomía, psicología, etcétera-,\n",
    " ¡recordemos que la naturaleza nada sabe de ello! O sea que recompongámoslo todo de nuevo y no nos olvidemos de la razón de ser del vino.\n",
    " Permitámonos un último placer: ¡bebamos y olvidémoslo todo!\n",
    "-Richard Feynman, Ganador del Premio Nobel de Fisica`\n",
    "Realice las siguientes tareas:\n",
    ">>1. Determine la cantidad de veces que aparece la letra minuscula 'a'\n",
    ">>2. Reemplace todas las palabras que digan 'poeta' por la palabra 'programador' tambien reemplazca 'poetas' por 'programadores'\n",
    ">>3. Reemplace 'vino' por 'fantuvi'\n",
    ">>4. ¿En que posicion empieza la palabra \"imaginación\"?\n",
    ">>5. Imprima todo el texto en mayusculas\n",
    ">>6. Celebrar"
   ]
  }
 ],
 "metadata": {
  "kernelspec": {
   "display_name": "Python 3",
   "language": "python",
   "name": "python3"
  },
  "language_info": {
   "codemirror_mode": {
    "name": "ipython",
    "version": 3
   },
   "file_extension": ".py",
   "mimetype": "text/x-python",
   "name": "python",
   "nbconvert_exporter": "python",
   "pygments_lexer": "ipython3",
   "version": "3.8.5"
  }
 },
 "nbformat": 4,
 "nbformat_minor": 4
}
