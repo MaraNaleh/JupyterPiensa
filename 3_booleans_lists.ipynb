{
 "cells": [
  {
   "cell_type": "markdown",
   "metadata": {},
   "source": [
    "## El tipo Boolean\n",
    "\n",
    "El cuarto tipo de dato es el boolean Estos valores corresponden a los estados \"encendido\" o \"apagado\", y son unicamente dos. Veremos que este tipo de datos es importante en ciertas estructuras"
   ]
  },
  {
   "cell_type": "code",
   "execution_count": 1,
   "metadata": {},
   "outputs": [],
   "source": [
    "z = True\n",
    "\n",
    "tengo_hambre = False"
   ]
  },
  {
   "cell_type": "markdown",
   "metadata": {},
   "source": [
    "Antes de ver para que se usan, veremos las operaciones que existen entre booleanos. Igual que yo puedo hacer $1 + 2 = 3$, donde la operación es la suma, puedo definir operaciones entre booleanos, que dan como resultado un booleano. Existen tres operaciones básicas con booleanos:\n",
    "\n",
    "1. La negación (`not`): Cambia el valor del booleano a su estado contrario. Entonces `not True` es igual a `False` y `not False` es igual a `True`.\n",
    "\n",
    "2. Disyunción (`or`): Igual que la suma necesita dos enteros para realizar la operación, la disyunción necesita dos booleanos para realizar la operación correspondiente. Da como resultado False solamente si ambos booleanos son False. Entonces `False or False` es igual a `False`, y los tres resultados `True or False`, `False or True` y `True or True` dan como resultado `True`. \n",
    "\n",
    "3. Conjunción (`and`): Igual que el `or`, necesita dos booleanos, y devulve uno. En este caso, la conjunción `True and True` es la única que sale igual a `True`. Las otras tres, `True and False`, `False and True`, `False and False` salen `False`. \n",
    "\n",
    "Veamos unos ejemplos"
   ]
  },
  {
   "cell_type": "code",
   "execution_count": 3,
   "metadata": {},
   "outputs": [
    {
     "name": "stdout",
     "output_type": "stream",
     "text": [
      "Ejemplo 1:  True\n",
      "Ejemplo 2:  False\n",
      "Ejemplo 3:  True\n"
     ]
    }
   ],
   "source": [
    "print(\"Ejemplo 1: \", True or False)\n",
    "print(\"Ejemplo 2: \", False and (False or True))\n",
    "print(\"Ejemplo 3: \", not True or not False)"
   ]
  },
  {
   "cell_type": "markdown",
   "metadata": {},
   "source": [
    "## El tipo List\n",
    "\n",
    "El último tipo de dato esencial de Python es el tipo List. Es como una caja de variables, delimitada por corchetes y separados por comas. Puede contener CUALQUIER objeto (de cualquier tipo, inclusive puede contener listas). "
   ]
  },
  {
   "cell_type": "code",
   "execution_count": 4,
   "metadata": {},
   "outputs": [],
   "source": [
    "squares = [1, 4, 9, 16, 25]\n",
    "\n",
    "milista = [1, 5, True, \"Python 3.8\", tengo_hambre]"
   ]
  },
  {
   "cell_type": "markdown",
   "metadata": {},
   "source": [
    "Entre las operaciones básicas, existen dos que se pueden realizar con listas:\n",
    "\n",
    "1. La suma (`+`): Devuelve una lista que contiene elementos de ambas listas, en orden."
   ]
  },
  {
   "cell_type": "code",
   "execution_count": 5,
   "metadata": {},
   "outputs": [
    {
     "name": "stdout",
     "output_type": "stream",
     "text": [
      "[1, 4, 9, 16, 25, 1, 8, 27, 64, 125]\n"
     ]
    }
   ],
   "source": [
    "#Ejemplo de suma de listas\n",
    "cubes = [1, 8, 27, 64, 125]\n",
    "print(squares + cubes)"
   ]
  },
  {
   "cell_type": "markdown",
   "metadata": {},
   "source": [
    "2. El indexing: Igual que los strings, puedo preguntar por una posición específica de la lista. En el ejemplo arriba, `print(cubes[3])` mostraría el valor `64`. Tanto con strings y con listas, no tenemos permitido preguntar por valores que estan enuna posición que no existe:"
   ]
  },
  {
   "cell_type": "code",
   "execution_count": 6,
   "metadata": {},
   "outputs": [
    {
     "ename": "IndexError",
     "evalue": "list index out of range",
     "output_type": "error",
     "traceback": [
      "\u001b[1;31m---------------------------------------------------------------------------\u001b[0m",
      "\u001b[1;31mIndexError\u001b[0m                                Traceback (most recent call last)",
      "\u001b[1;32m<ipython-input-6-c49c983eece1>\u001b[0m in \u001b[0;36m<module>\u001b[1;34m\u001b[0m\n\u001b[1;32m----> 1\u001b[1;33m \u001b[0mprint\u001b[0m\u001b[1;33m(\u001b[0m\u001b[0msquares\u001b[0m\u001b[1;33m[\u001b[0m\u001b[1;36m10\u001b[0m\u001b[1;33m]\u001b[0m\u001b[1;33m)\u001b[0m\u001b[1;33m\u001b[0m\u001b[1;33m\u001b[0m\u001b[0m\n\u001b[0m",
      "\u001b[1;31mIndexError\u001b[0m: list index out of range"
     ]
    }
   ],
   "source": [
    "print(squares[10])"
   ]
  },
  {
   "cell_type": "markdown",
   "metadata": {},
   "source": [
    "Es un error muy común en python, el `list index out or range` indica que no existe la posición 10 en la lista.\n",
    "\n",
    "3. El slicing (`:`): Igual que un string, podemos pedir una rebanada de la lista. El formato adentro de los corchetes es `a:b`, donde \"a\" y \"b\" son enteros que pueden omitirse:"
   ]
  },
  {
   "cell_type": "code",
   "execution_count": 7,
   "metadata": {},
   "outputs": [
    {
     "name": "stdout",
     "output_type": "stream",
     "text": [
      "[4, 9, 16]\n",
      "[9, 16, 25]\n",
      "[1]\n"
     ]
    }
   ],
   "source": [
    "print(squares[1:4]) #Elementos del segundo al cuarto\n",
    "print(squares[2:]) #Elementos del tercero al ultimo\n",
    "print(squares[:1]) #Elementos del primero al primero"
   ]
  },
  {
   "cell_type": "markdown",
   "metadata": {},
   "source": [
    "El resultado es siempre una lista. A diferencia de los strings, las listas **si son objetos parcialmente mutables**. Puedo elegir una posición de la lista y reemplazarlo:"
   ]
  },
  {
   "cell_type": "code",
   "execution_count": 8,
   "metadata": {},
   "outputs": [
    {
     "name": "stdout",
     "output_type": "stream",
     "text": [
      "[1, 5, True, [1, 8, 27, 64, 125], False]\n"
     ]
    }
   ],
   "source": [
    "milista[3] = cubes\n",
    "print(milista)"
   ]
  },
  {
   "cell_type": "code",
   "execution_count": 9,
   "metadata": {},
   "outputs": [
    {
     "ename": "IndexError",
     "evalue": "list assignment index out of range",
     "output_type": "error",
     "traceback": [
      "\u001b[1;31m---------------------------------------------------------------------------\u001b[0m",
      "\u001b[1;31mIndexError\u001b[0m                                Traceback (most recent call last)",
      "\u001b[1;32m<ipython-input-9-0b0399092613>\u001b[0m in \u001b[0;36m<module>\u001b[1;34m\u001b[0m\n\u001b[0;32m      1\u001b[0m \u001b[1;31m#No podemos agregar valores a la lista asi\u001b[0m\u001b[1;33m\u001b[0m\u001b[1;33m\u001b[0m\u001b[1;33m\u001b[0m\u001b[0m\n\u001b[0;32m      2\u001b[0m \u001b[1;33m\u001b[0m\u001b[0m\n\u001b[1;32m----> 3\u001b[1;33m \u001b[0mmilista\u001b[0m\u001b[1;33m[\u001b[0m\u001b[1;36m5\u001b[0m\u001b[1;33m]\u001b[0m \u001b[1;33m=\u001b[0m \u001b[0msquares\u001b[0m\u001b[1;33m\u001b[0m\u001b[1;33m\u001b[0m\u001b[0m\n\u001b[0m",
      "\u001b[1;31mIndexError\u001b[0m: list assignment index out of range"
     ]
    }
   ],
   "source": [
    "#No podemos agregar valores a la lista asi\n",
    "\n",
    "milista[5] = squares"
   ]
  },
  {
   "cell_type": "markdown",
   "metadata": {},
   "source": [
    "Debido a que, una vez más, la lista solo posee 5 valores."
   ]
  }
 ],
 "metadata": {
  "kernelspec": {
   "display_name": "Python 3",
   "language": "python",
   "name": "python3"
  },
  "language_info": {
   "codemirror_mode": {
    "name": "ipython",
    "version": 3
   },
   "file_extension": ".py",
   "mimetype": "text/x-python",
   "name": "python",
   "nbconvert_exporter": "python",
   "pygments_lexer": "ipython3",
   "version": "3.8.3"
  }
 },
 "nbformat": 4,
 "nbformat_minor": 4
}
